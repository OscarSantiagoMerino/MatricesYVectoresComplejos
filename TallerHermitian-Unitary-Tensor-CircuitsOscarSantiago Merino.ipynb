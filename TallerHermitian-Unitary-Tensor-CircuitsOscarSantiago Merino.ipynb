{
 "cells": [
  {
   "cell_type": "markdown",
   "id": "c7d4de9a-e7dc-4cf3-bd8d-7da869ceb9ac",
   "metadata": {},
   "source": [
    "# Hermitian Matrices, Unitary Matrices and Tensor Product"
   ]
  },
  {
   "cell_type": "markdown",
   "id": "007db568-62bf-4098-a52f-281b41db3012",
   "metadata": {},
   "source": [
    "\n",
    "# Understanding Complex Hermitian and Unitary Matrices\n",
    "\n",
    "This tutorial delves into two pivotal concepts in quantum computing and linear algebra: complex Hermitian and Unitary matrices. Both play critical roles in quantum mechanics and quantum computing, underpinning the behavior of quantum systems and the operations performed on them.\n",
    "\n",
    "## Objectives\n",
    "- Define and explore the properties of complex Hermitian matrices.\n",
    "- Understand and implement complex Unitary matrices in Python.\n",
    "- Highlight their significance and applications in quantum computing.\n",
    "\n",
    "Prepare to enhance your mathematical toolkit with these foundational concepts, illustrated with Python examples for a hands-on learning experience.\n"
   ]
  },
  {
   "cell_type": "markdown",
   "id": "172b4789-ccc2-41be-ae1b-fff456a76c41",
   "metadata": {},
   "source": [
    "\n",
    "## Complex Hermitian Matrices\n",
    "\n",
    "A Hermitian matrix, or self-adjoint matrix, is a square matrix that is equal to its own conjugate transpose. This property makes it a natural representation of observable quantities in quantum mechanics.\n",
    "\n",
    "### Properties\n",
    "- The eigenvalues of a Hermitian matrix are always real.\n",
    "- The eigenvectors of a Hermitian matrix corresponding to different eigenvalues are orthogonal.\n",
    "- Hermitian matrices are extensively used in quantum mechanics to describe physical observables.\n",
    "\n",
    "### Python Example: Defining a Hermitian Matrix\n"
   ]
  },
  {
   "cell_type": "code",
   "execution_count": null,
   "id": "be7b7f14-c501-4fd9-a482-73f4acf8bfd9",
   "metadata": {},
   "outputs": [],
   "source": [
    "\n",
    "import numpy as np\n",
    "\n",
    "# Define a complex Hermitian matrix\n",
    "hermitian_matrix = np.array([[2+0j, 2-1j], [2+1j, 3+0j]])\n",
    "\n",
    "# Check if the matrix is Hermitian\n",
    "is_hermitian = np.allclose(hermitian_matrix, hermitian_matrix.conj().T)\n",
    "\n",
    "is_hermitian, hermitian_matrix\n"
   ]
  },
  {
   "cell_type": "markdown",
   "id": "6c6e41c4-7edb-46e0-b5a3-9dc381541312",
   "metadata": {},
   "source": [
    "\n",
    "## Complex Unitary Matrices\n",
    "\n",
    "A Unitary matrix is a square matrix whose conjugate transpose is also its inverse. Unitary matrices preserve the inner product, making them essential for describing quantum gates and evolution in quantum computing.\n",
    "\n",
    "### Properties\n",
    "- Preserves the norm of vectors, hence preserving quantum states during transformations.\n",
    "- The determinant of a Unitary matrix has an absolute value of 1.\n",
    "- Used to represent reversible quantum operations and time evolution in quantum systems.\n",
    "\n",
    "### Python Example: Defining a Unitary Matrix\n"
   ]
  },
  {
   "cell_type": "code",
   "execution_count": 2,
   "id": "72119954-9647-4f66-93e9-c014c05bb48c",
   "metadata": {},
   "outputs": [
    {
     "data": {
      "text/plain": [
       "(True,\n",
       " array([[ 0.70710678+0.j        ,  0.70710678+0.j        ],\n",
       "        [ 0.        +0.70710678j, -0.        -0.70710678j]]))"
      ]
     },
     "execution_count": 2,
     "metadata": {},
     "output_type": "execute_result"
    }
   ],
   "source": [
    "\n",
    "import numpy as np\n",
    "# Define a complex Unitary matrix\n",
    "unitary_matrix = np.array([[1/np.sqrt(2), 1/np.sqrt(2)], [1/np.sqrt(2)*1j, -1/np.sqrt(2)*1j]])\n",
    "\n",
    "# Check if the matrix is Unitary\n",
    "# np.eye(2) returns the identity of size 2x2\n",
    "is_unitary = np.allclose(np.dot(unitary_matrix, unitary_matrix.conj().T), np.eye(2))\n",
    "\n",
    "is_unitary, unitary_matrix\n"
   ]
  },
  {
   "cell_type": "markdown",
   "id": "85750bcf-34ab-49ab-9163-509b29e719c9",
   "metadata": {},
   "source": [
    "# Tensor product"
   ]
  },
  {
   "cell_type": "markdown",
   "id": "b85487ee-1d19-47ab-a0a7-e05c8b758b13",
   "metadata": {},
   "source": [
    "\n",
    "## Tensor Product for Complex Vectors\n",
    "\n",
    "The tensor product of two complex vectors creates a new vector in a higher-dimensional space, allowing us to combine quantum states in quantum computing.\n",
    "\n",
    "### Example\n"
   ]
  },
  {
   "cell_type": "code",
   "execution_count": 3,
   "id": "c4619aad-e04f-4787-a8ff-8e324f13b816",
   "metadata": {},
   "outputs": [
    {
     "data": {
      "text/plain": [
       "array([ -7.+16.j,  -9.+22.j,  -9.+38.j, -11.+52.j])"
      ]
     },
     "execution_count": 3,
     "metadata": {},
     "output_type": "execute_result"
    }
   ],
   "source": [
    "\n",
    "import numpy as np\n",
    "\n",
    "# Define two complex vectors for the tensor product\n",
    "v1 = np.array([1+2j, 3+4j])\n",
    "v2 = np.array([5+6j, 7+8j])\n",
    "\n",
    "# Calculate the tensor product\n",
    "tensor_product_v = np.kron(v1, v2)\n",
    "\n",
    "tensor_product_v\n"
   ]
  },
  {
   "cell_type": "markdown",
   "id": "aa89e379-8ce8-493d-8b0e-6461a7fc1325",
   "metadata": {},
   "source": [
    "\n",
    "## Tensor Product for Complex Matrices\n",
    "\n",
    "The tensor product for matrices combines individual matrices into a larger matrix, crucial for representing multiple qubit systems in quantum computing.\n",
    "\n",
    "### Example\n"
   ]
  },
  {
   "cell_type": "code",
   "execution_count": 4,
   "id": "c558e2f2-8ecf-466a-8fb4-469566157419",
   "metadata": {},
   "outputs": [
    {
     "data": {
      "text/plain": [
       "array([[-11. +28.j, -13. +34.j, -13. +66.j, -15. +80.j],\n",
       "       [-15. +40.j, -17. +46.j, -17. +94.j, -19.+108.j],\n",
       "       [-15.+104.j, -17.+126.j, -17.+142.j, -19.+172.j],\n",
       "       [-19.+148.j, -21.+170.j, -21.+202.j, -23.+232.j]])"
      ]
     },
     "execution_count": 4,
     "metadata": {},
     "output_type": "execute_result"
    }
   ],
   "source": [
    "\n",
    "# Define two complex matrices for the tensor product\n",
    "M1 = np.array([[1+2j, 3+4j], [5+6j, 7+8j]])\n",
    "M2 = np.array([[9+10j, 11+12j], [13+14j, 15+16j]])\n",
    "\n",
    "# Calculate the tensor product\n",
    "tensor_product_m = np.kron(M1, M2)\n",
    "\n",
    "tensor_product_m\n"
   ]
  },
  {
   "cell_type": "markdown",
   "id": "ffa82608-ea8c-4bc7-b357-a8552a649f0c",
   "metadata": {},
   "source": [
    "# Exercises on Complex Vector and Matrix Operations\n",
    "\n",
    "This set of exercises is designed to test your understanding of various concepts related to complex vector and matrix operations, which are foundational in quantum computing. Each exercise presents a concrete case for you to apply what you've learned about Hermitian matrices, Unitary matrices, and tensor products.\n",
    "\n",
    "NOTE: VERIFY YOUR COMPUTATIONS IN PAPER AND IN THE COMPUTER.\n",
    "\n",
    "## Exercise 1: Complex Hermitian Matrices\n",
    "\n",
    "Consider the matrix:\n",
    "\n",
    "$$ H = \\begin{bmatrix} 3 & 2+i \\\\ 2-i & 1 \\end{bmatrix} $$\n",
    "\n",
    "- Verify if $ H $ is a Hermitian matrix.\n",
    "- If it is, find its eigenvalues.\n",
    "\n",
    "## Exercise 2: Complex Unitary Matrices\n",
    "\n",
    "Consider the matrix:\n",
    "\n",
    "$$ U = \\frac{1}{\\sqrt{2}}\\begin{bmatrix} 1 & i \\\\ i & 1 \\end{bmatrix} $$\n",
    "\n",
    "- Verify if $ U $ is a Unitary matrix.\n",
    "- Compute $ UU^\\dagger $ to confirm its Unitarity, where $ U^\\dagger $ denotes the conjugate transpose of $ U $.\n",
    "\n",
    "## Exercise 3: Tensor Product for Complex Vectors\n",
    "\n",
    "Given the complex vectors:\n",
    "\n",
    "$$ \\mathbf{v} = \\begin{bmatrix} 1+i \\\\ 2-i \\end{bmatrix}, \\quad \\mathbf{w} = \\begin{bmatrix} 1-2i \\\\ 3 \\end{bmatrix} $$\n",
    "\n",
    "Calculate the tensor product $ \\mathbf{v} \\otimes \\mathbf{w} $.\n",
    "\n",
    "## Exercise 4: Tensor Product for Complex Matrices\n",
    "\n",
    "Given the matrices:\n",
    "\n",
    "$$ M_1 = \\begin{bmatrix} 0 & 1 \\\\ 1 & 0 \\end{bmatrix}, \\quad M_2 = \\begin{bmatrix} i & 0 \\\\ 0 & -i \\end{bmatrix} $$\n",
    "\n",
    "Calculate the tensor product $ M_1 \\otimes M_2 $.\n",
    "\n",
    "## Exercise 5: Modelling quantum computations with vectors and matrices\n",
    "\n",
    "Using matrices and vectors, implement a model of the Mach/Zehnder interferometer.\n",
    "\n",
    "![Mach-Zehnder interferometer](images/Mach-Zehnder-Interferometer.png)\n",
    "\n",
    "## Exercise 6: Composing quantum systems \n",
    "\n",
    "Using matrices and vectors, implement a model of the following circuit.\n",
    "\n",
    "![Mach-Zehnder interferometer](images/Deutsch-Algorithm.png)\n",
    "\n",
    "Use the following MAtrix for $U_f$:\n",
    "\n",
    "![Mach-Zehnder interferometer](images/ExampleUf.png)\n",
    "\n"
   ]
  },
  {
   "cell_type": "markdown",
   "id": "8be418c8",
   "metadata": {},
   "source": [
    "## /"
   ]
  },
  {
   "cell_type": "markdown",
   "id": "f5045625",
   "metadata": {},
   "source": [
    "## /"
   ]
  },
  {
   "cell_type": "markdown",
   "id": "13d728bf",
   "metadata": {},
   "source": [
    "## /"
   ]
  },
  {
   "cell_type": "markdown",
   "id": "28ac0240",
   "metadata": {},
   "source": [
    "## Solucion de ejercicios"
   ]
  },
  {
   "cell_type": "markdown",
   "id": "be25135a",
   "metadata": {},
   "source": [
    "### Ejercicio 1 Complex Hermitian Matrices\n",
    "\n",
    "Considere la siguiente matriz:\n",
    "\n",
    "$$ H = \\begin{bmatrix} 3 & 2+i \\\\ 2-i & 1 \\end{bmatrix} $$\n",
    "\n",
    "- Verique si $ H $ es una matriz Hermitiana.\n",
    "- si lo llega a ser, encuentra los valores propios."
   ]
  },
  {
   "cell_type": "code",
   "execution_count": 5,
   "id": "88e33dfd-c15e-4cbb-8b20-208efb0aadf7",
   "metadata": {},
   "outputs": [
    {
     "name": "stdout",
     "output_type": "stream",
     "text": [
      "la matriz si es hermitiana y sus valores propios son:[ 4.44948974-6.70989255e-17j -0.44948974+1.15877743e-17j]\n"
     ]
    }
   ],
   "source": [
    "import numpy as np\n",
    "\n",
    "# Define una matriz hermitiana compleja.\n",
    "hermitian_matrix = np.array([[3+0j, 2+1j], \n",
    "                             [2-1j, 1+0j]])\n",
    "\n",
    "eigenvalues, eigenvectors = np.linalg.eig(hermitian_matrix)\n",
    "\n",
    "# comprobar si la matriz es hermitiana\n",
    "is_hermitian = np.allclose(hermitian_matrix, hermitian_matrix.conj().T)\n",
    "def hermitian(matriz,eshermitiana,valorespropios):\n",
    "    if eshermitiana == True:\n",
    "        return (f\"la matriz si es hermitiana y sus valores propios son:{valorespropios}\")\n",
    "    else:\n",
    "        return(\"la matriz no es hermitiana\")\n",
    "    \n",
    "print(hermitian(hermitian_matrix,is_hermitian,eigenvalues))\n",
    "\n"
   ]
  },
  {
   "cell_type": "markdown",
   "id": "8a36af62",
   "metadata": {},
   "source": [
    "## Ejercicio 2: Complex Unitary Matrices\n",
    "\n",
    "Considere la matriz:\n",
    "\n",
    "$$ U = \\frac{1}{\\sqrt{2}}\\begin{bmatrix} 1 & i \\\\ i & 1 \\end{bmatrix} $$\n",
    "\n",
    "- Verique si $ U $ es una matriz unitaria.\n",
    "- pruebe la operacion $ UU^\\dagger $ para confirmar que es unitario donde $ U^\\dagger $ denota el conjugado transpuesto de $ U $."
   ]
  },
  {
   "cell_type": "code",
   "execution_count": 20,
   "id": "97392b79",
   "metadata": {},
   "outputs": [
    {
     "name": "stdout",
     "output_type": "stream",
     "text": [
      "La matriz adjunta U† es:\n",
      "[[0.70710678-0.j         0.        -0.70710678j]\n",
      " [0.        -0.70710678j 0.70710678-0.j        ]]\n",
      "\n",
      "El resultado de UU† es:\n",
      "[[1.+0.j 0.+0.j]\n",
      " [0.+0.j 1.+0.j]]\n",
      "\n",
      "¿Es U una matriz unitaria? True\n"
     ]
    }
   ],
   "source": [
    "# Define la matriz compleja \n",
    "unitary_matrix = np.array([[1/np.sqrt(2), 1/np.sqrt(2)*1j], [1/np.sqrt(2)*1j, 1/np.sqrt(2)]])\n",
    "#codigo para saber si es unitaria\n",
    "matriz_u = unitary_matrix.conj().T\n",
    "\n",
    "mtztotal =np.dot(unitary_matrix,matriz_u)\n",
    "\n",
    "is_unitary = np.allclose(np.dot(unitary_matrix, unitary_matrix.conj().T), np.eye(2))\n",
    "\n",
    "print(f\"La matriz adjunta U† es:\\n{matriz_u}\\n\")\n",
    "print(f\"El resultado de UU† es:\\n{mtztotal}\\n\")\n",
    "print(f\"¿Es U una matriz unitaria? {is_unitary}\")"
   ]
  },
  {
   "cell_type": "markdown",
   "id": "630900d8",
   "metadata": {},
   "source": [
    "## Ejercicio 3: producto tensor para vectores complejos\n",
    "\n",
    "utilizando el vector complejo:\n",
    "\n",
    "$$ \\mathbf{v} = \\begin{bmatrix} 1+i \\\\ 2-i \\end{bmatrix}, \\quad \\mathbf{w} = \\begin{bmatrix} 1-2i \\\\ 3 \\end{bmatrix} $$\n",
    "\n",
    "Calcular el producto tensor $ \\mathbf{v} \\otimes \\mathbf{w} $."
   ]
  },
  {
   "cell_type": "code",
   "execution_count": 59,
   "id": "a7d73dbb",
   "metadata": {},
   "outputs": [
    {
     "name": "stdout",
     "output_type": "stream",
     "text": [
      "el resultado del producto tensor para vectores complejos\n",
      "[3.+1.j 3.+3.j 0.-5.j 3.-6.j]\n"
     ]
    }
   ],
   "source": [
    "\n",
    "import numpy as np\n",
    "\n",
    "# Definimos los dos vectores\n",
    "v1 = np.array([1+1j, 1-2j])\n",
    "v2 = np.array([2-1j, 3+0j])\n",
    "\n",
    "# Calculamos el producto tensor\n",
    "tensor_product_v = np.kron(v1, v2)\n",
    "print(\"el resultado del producto tensor para vectores complejos\")\n",
    "print(tensor_product_v)"
   ]
  },
  {
   "cell_type": "markdown",
   "id": "bddde7dc",
   "metadata": {},
   "source": [
    "## Ejercicio 4: producto tensor de matrices complejas\n",
    "\n",
    "dadas las siguientes matrices:\n",
    "\n",
    "$$ M_1 = \\begin{bmatrix} 0 & 1 \\\\ 1 & 0 \\end{bmatrix}, \\quad M_2 = \\begin{bmatrix} i & 0 \\\\ 0 & -i \\end{bmatrix} $$\n",
    "\n",
    "Calcula el produrcto tensor $ M_1 \\otimes M_2 $."
   ]
  },
  {
   "cell_type": "code",
   "execution_count": 60,
   "id": "f95d897c",
   "metadata": {},
   "outputs": [
    {
     "name": "stdout",
     "output_type": "stream",
     "text": [
      "el producto tensor de las matrices es\n",
      "[[0.+0.j 0.+0.j 0.+1.j 0.+0.j]\n",
      " [0.+0.j 0.-0.j 0.+0.j 0.-1.j]\n",
      " [0.+1.j 0.+0.j 0.+0.j 0.+0.j]\n",
      " [0.+0.j 0.-1.j 0.+0.j 0.-0.j]]\n"
     ]
    }
   ],
   "source": [
    "# Definimos las dos matrices complejas \n",
    "M1 = np.array([[0,1],[1,0]])\n",
    "M2 = np.array([[1j,0],[0,-1j]])\n",
    "\n",
    "# Calculamos el producto tensor\n",
    "tensor_product_m = np.kron(M1, M2)\n",
    "\n",
    "print(\"el producto tensor de las matrices es\")\n",
    "print(tensor_product_m)\n"
   ]
  },
  {
   "cell_type": "markdown",
   "id": "f79a9748",
   "metadata": {},
   "source": [
    "## Ejercicio 5: modelacion de la computacion cuantica con matrices y vectores\n",
    "\n",
    "usando las matrices y los vectores, implementalas en el modelo de interferometro de Mach/Zehnder .\n",
    "\n",
    "![Mach-Zehnder interferometer](images/Mach-Zehnder-Interferometer.png)"
   ]
  },
  {
   "cell_type": "code",
   "execution_count": 68,
   "id": "66c2ab71",
   "metadata": {},
   "outputs": [
    {
     "name": "stdout",
     "output_type": "stream",
     "text": [
      "El resultado de aplicar los calculos referentes para la imagen es \n",
      "[[1.00000000e+00]\n",
      " [2.23711432e-17]]\n",
      "que siendo mas preciso seria quet(O) lo cual es una matriz de la forma [1,0] \n"
     ]
    }
   ],
   "source": [
    "import numpy as np\n",
    "\n",
    "quetzero = np.array([[1],[0]])\n",
    "H = np.array([[1, 1], [1, -1]]) / np.sqrt(2) \n",
    "X = np.array([[0, 1], [1, 0]])  \n",
    "totalmult1 = np.dot(H,quetzero)\n",
    "totalmult2 = np.dot(X,totalmult1)\n",
    "totalmult3 = np.dot(H,totalmult2)\n",
    "\n",
    "print(f\"El resultado de aplicar los calculos referentes para la imagen es \")\n",
    "print(f\"{totalmult3}\")\n",
    "print(\"que siendo mas preciso seria quet(O) lo cual es una matriz de la forma \")"
   ]
  },
  {
   "cell_type": "markdown",
   "id": "9549e189",
   "metadata": {},
   "source": [
    "\n",
    "$$ \\mathbf{V} = \\begin{bmatrix} 1 \\\\ 0 \\end{bmatrix} $$"
   ]
  },
  {
   "cell_type": "markdown",
   "id": "d46e06f5",
   "metadata": {},
   "source": [
    "## Ejercicio 6: componer sistemas cuanticos\n",
    "\n",
    "usando matrices y vectores, implementar un modelo de un circuito en seguimiento.\n",
    "\n",
    "![Mach-Zehnder interferometer](images/Deutsch-Algorithm.png)\n",
    "\n",
    "esta es la matriz $U_f$:\n",
    "\n",
    "![Mach-Zehnder interferometer](images/ExampleUf.png)\n"
   ]
  },
  {
   "cell_type": "code",
   "execution_count": 77,
   "id": "90efe49c",
   "metadata": {},
   "outputs": [
    {
     "name": "stdout",
     "output_type": "stream",
     "text": [
      "el resultado del modelo es:\n",
      "[[ 0.        ]\n",
      " [ 0.        ]\n",
      " [-0.70710678]\n",
      " [ 0.70710678]]\n"
     ]
    }
   ],
   "source": [
    "import numpy as np\n",
    "### Definimos el vector quetzero\n",
    "quetzero = np.array([[1],[0]])\n",
    "### Definimos el vector quetuno\n",
    "quetuno = np.array([[0],[1]])\n",
    "### Definimos la matriz H \n",
    "H = np.array([[1, 1], [1, -1]]) / np.sqrt(2)\n",
    "### Definimos la matriz identidad cuadrada 2x2\n",
    "inden = np.array([[1, 0], [0, 1]])\n",
    "### Definimos la matriz Uf\n",
    "Uf = np.array([[0,1,0,0], [1,0,0,0],[0,0,1,0], [0,0,0,1]])\n",
    "quetfi1 = np.kron(quetzero,quetuno)\n",
    "quetfi2 = np.dot((np.kron(H,H)),quetfi1)\n",
    "quetfi3 = np.dot(Uf,quetfi2)\n",
    "quetfi4 = np.dot((np.kron(H,inden)),quetfi3)\n",
    "print(\"el resultado del modelo es:\")\n",
    "print(quetfi4)\n",
    "\n"
   ]
  }
 ],
 "metadata": {
  "kernelspec": {
   "display_name": "Python 3",
   "language": "python",
   "name": "python3"
  },
  "language_info": {
   "codemirror_mode": {
    "name": "ipython",
    "version": 3
   },
   "file_extension": ".py",
   "mimetype": "text/x-python",
   "name": "python",
   "nbconvert_exporter": "python",
   "pygments_lexer": "ipython3",
   "version": "3.11.7"
  }
 },
 "nbformat": 4,
 "nbformat_minor": 5
}
